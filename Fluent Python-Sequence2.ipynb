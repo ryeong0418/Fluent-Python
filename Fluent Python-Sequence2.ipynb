{
 "cells": [
  {
   "cell_type": "markdown",
   "id": "85b94f75",
   "metadata": {},
   "source": [
    "[]연산자를 처리하는 __getiem()__과 __setitem__() 특수메서드는 a[i,j]에 들어있는 인덱스들을 튜플로 받는다.<br>\n",
    "즉. a[i,j] 를 평가하기 위해서 파이썬은 a.__getitem__((i,j))를 호출한다."
   ]
  },
  {
   "cell_type": "markdown",
   "id": "0e995571",
   "metadata": {},
   "source": [
    "[ 리스트의 리스트 만들기 ]"
   ]
  },
  {
   "cell_type": "code",
   "execution_count": 16,
   "id": "f7f0545f",
   "metadata": {},
   "outputs": [
    {
     "name": "stdout",
     "output_type": "stream",
     "text": [
      "['_', '_', '_']\n",
      "['b', 'b', 'b']\n",
      "['bbb']\n",
      "[['_', '_', '_'], ['_', '_', '_'], ['_', '_', '_']]\n",
      "[['_', '_', '_'], ['_', '_', 'X'], ['_', '_', '_']]\n"
     ]
    }
   ],
   "source": [
    "a= ['_']*3\n",
    "print(a)\n",
    "\n",
    "b=['b']*3\n",
    "print(b)\n",
    "\n",
    "c=['b'*3]\n",
    "print(c)\n",
    "\n",
    "board = [['_']*3 for i in range(3)]\n",
    "print(board)\n",
    "\n",
    "board[1][2]='X'\n",
    "print(board)"
   ]
  },
  {
   "cell_type": "code",
   "execution_count": 17,
   "id": "0f39e107",
   "metadata": {},
   "outputs": [
    {
     "name": "stdout",
     "output_type": "stream",
     "text": [
      "[['_', '_', '_'], ['_', '_', '_'], ['_', '_', '_']]\n",
      "[['_', '_', '0'], ['_', '_', '0'], ['_', '_', '0']]\n"
     ]
    }
   ],
   "source": [
    "weird_board = [['_']*3]*3\n",
    "print(weird_board)\n",
    "weird_board[1][2]='0'\n",
    "print(weird_board)"
   ]
  },
  {
   "cell_type": "code",
   "execution_count": 18,
   "id": "f790e801",
   "metadata": {},
   "outputs": [
    {
     "name": "stdout",
     "output_type": "stream",
     "text": [
      "[['_', '_', '_'], ['_', '_', '_'], ['_', '_', '_']]\n",
      "[['X', '_', '_'], ['X', '_', '_'], ['X', '_', '_']]\n"
     ]
    }
   ],
   "source": [
    "row = ['_']*3\n",
    "board1 = []\n",
    "for i in range(3):\n",
    "    board1.append(row)\n",
    "print(board1)\n",
    "board1[2][0]='X'\n",
    "print(board1)"
   ]
  },
  {
   "cell_type": "code",
   "execution_count": 19,
   "id": "51282c0f",
   "metadata": {},
   "outputs": [
    {
     "name": "stdout",
     "output_type": "stream",
     "text": [
      "[['_', '_', '_'], ['_', '_', '_'], ['_', '_', '_']]\n",
      "[['_', '_', '_'], ['_', '_', '_'], ['X', '_', '_']]\n"
     ]
    }
   ],
   "source": [
    "board2=[]\n",
    "\n",
    "for i in range(3):\n",
    "    row=['_']*3\n",
    "    board2.append(row)\n",
    "    \n",
    "print(board2)\n",
    "board2[2][0]='X'\n",
    "print(board2)"
   ]
  },
  {
   "cell_type": "markdown",
   "id": "f78782ba",
   "metadata": {},
   "source": [
    "+= 연산자가 작동하도록 만드는 특수 메서드는 __iadd__()다. <br>\n",
    "그런데 __iadd__() 메서드가 구현되어 있지 않으면, 파이썬은 대신 __add__()메서드를 호출한다."
   ]
  },
  {
   "cell_type": "markdown",
   "id": "5d22cc8f",
   "metadata": {},
   "source": [
    "a가 __iadd__() 메서드를 구현하면 구현된 메서드가 호출된다.<br>\n",
    "a가 list,bytearray, array.array등 가변 시퀀스인 경우 a의 값이 변경된다.(a.extend(b))와 비슷)<br>\n",
    "그런데 a가 __iadd__() 메서드를 구현하지 않는 경우 a+=b 표현식은 a = a+b가 되어 먼저 a+b를 평가하고, <br>\n",
    "객체를 새로 생성한 후 a에 할당된다.<br>\n",
    "즉, __iadd__() 메서드 구현 여부에 따라 a 변수가 가리키는 객체의 정체성이 바뀔 수도 있고 바뀌지 않을 수도 있다.<br>"
   ]
  },
  {
   "cell_type": "code",
   "execution_count": 20,
   "id": "cb2afd7d",
   "metadata": {},
   "outputs": [
    {
     "data": {
      "text/plain": [
       "[30, 40, 50, 60]"
      ]
     },
     "execution_count": 20,
     "metadata": {},
     "output_type": "execute_result"
    }
   ],
   "source": [
    "[30,40]+[50,60]"
   ]
  },
  {
   "cell_type": "code",
   "execution_count": 22,
   "id": "0b650925",
   "metadata": {},
   "outputs": [
    {
     "ename": "TypeError",
     "evalue": "'tuple' object does not support item assignment",
     "output_type": "error",
     "traceback": [
      "\u001b[1;31m---------------------------------------------------------------------------\u001b[0m",
      "\u001b[1;31mTypeError\u001b[0m                                 Traceback (most recent call last)",
      "Cell \u001b[1;32mIn[22], line 2\u001b[0m\n\u001b[0;32m      1\u001b[0m t \u001b[38;5;241m=\u001b[39m (\u001b[38;5;241m1\u001b[39m,\u001b[38;5;241m2\u001b[39m,[\u001b[38;5;241m30\u001b[39m,\u001b[38;5;241m40\u001b[39m])\n\u001b[1;32m----> 2\u001b[0m \u001b[43mt\u001b[49m\u001b[43m[\u001b[49m\u001b[38;5;241;43m2\u001b[39;49m\u001b[43m]\u001b[49m\u001b[38;5;241m+\u001b[39m\u001b[38;5;241m=\u001b[39m[\u001b[38;5;241m50\u001b[39m,\u001b[38;5;241m60\u001b[39m]\n\u001b[0;32m      3\u001b[0m \u001b[38;5;28mprint\u001b[39m(t)\n",
      "\u001b[1;31mTypeError\u001b[0m: 'tuple' object does not support item assignment"
     ]
    }
   ],
   "source": [
    "t = (1,2,[30,40])\n",
    "t[2]+=[50,60]\n",
    "print(t)"
   ]
  },
  {
   "cell_type": "code",
   "execution_count": 23,
   "id": "735d17ab",
   "metadata": {},
   "outputs": [
    {
     "name": "stdout",
     "output_type": "stream",
     "text": [
      "(1, 2, [30, 40, 50, 60])\n"
     ]
    }
   ],
   "source": [
    "print(t)"
   ]
  },
  {
   "cell_type": "markdown",
   "id": "7d36183c",
   "metadata": {},
   "source": [
    "list.sort()메서드는 사본을 만들지 않고 리스트 내부를 변경해서 정렬한다.<br>\n",
    "sort() 메서드는 타깃 객체를 변경하고 새로운 리스트를 생성하지 않았음을 알려주기 위해 None을 반환한다.<br>\n",
    "이것은 파이썬 API의 중요한 관례다.<br>\n",
    "객체를 직접 변경하는 함수나 메서드는 객체가 변경되었고 새로운 객체가 생성되지 않았음을 호출자에 알려주기 위해 None을 반환해야한다.<br>\n",
    "random.shuffle() 함수도 이와 동일하게 작동한다."
   ]
  },
  {
   "cell_type": "markdown",
   "id": "0d822ab2",
   "metadata": {},
   "source": [
    "이와 반대로 sorted() 내장 함수는 새로운 리스트를 생성해서 반환한다.<br>\n",
    "사실 sorted() 함수는 불변 시퀀스 및 제너레이터를 포함해서 반복가능한 모든 객체를 인수로 받을 수 있다.<br>\n",
    "입력 받은 반복 가능한 객체의 자료형과 무관하게 sorted() 함수는 언제나 새로 생성한 리스트를 반환한다."
   ]
  },
  {
   "cell_type": "markdown",
   "id": "d3936cdb",
   "metadata": {},
   "source": [
    "### 정렬된 시퀀스를 bisect로 관리하기"
   ]
  },
  {
   "cell_type": "markdown",
   "id": "8cbf6759",
   "metadata": {},
   "source": [
    "bisect 모듈은 bisect()와 insort() 함수를 제공한다. <br>\n",
    "bisect()는 이진 검색 알고리즘을 이용해서 시퀀스를 검색하고, insort()는 정렬된 시퀀스 안에 항목을 삽입한다."
   ]
  },
  {
   "cell_type": "markdown",
   "id": "0bffde87",
   "metadata": {},
   "source": [
    "bisect(haystack, needle)은 정렬된 시퀀스인 haystack 안에서 오름차순 정렬상태를 유지한 채로 needle을 추가할 수 있는 위치를 찾아낸다.<br>\n",
    "즉, 해당 위치 앞에서 needle 보다 같거나 작은 항목이 온다.<br>\n",
    "bisect(haystack, needle)의 결과값을 인덱스(index)로 사용해서 haystack.insert(index, needle)을 호출하면 needle을 추가할 수 있지만,<br>\n",
    "insort()함수는 이 두 과정을 더 빨리 처리한다."
   ]
  },
  {
   "cell_type": "markdown",
   "id": "4a03747d",
   "metadata": {},
   "source": [
    "[ 정렬된 시퀀스에서 항목을 추가할 위치를 찾아내는 bisect ]"
   ]
  },
  {
   "cell_type": "code",
   "execution_count": 26,
   "id": "87fcf17c",
   "metadata": {},
   "outputs": [
    {
     "name": "stdout",
     "output_type": "stream",
     "text": [
      "DEMO: bisect_right\n",
      "haystack ->  1 4 5 6 8121520212323262930\n",
      "31 @ 14  | | | | | | | | | | | | | |31\n",
      "30 @ 14  | | | | | | | | | | | | | |30\n",
      "29 @ 13  | | | | | | | | | | | | |29\n",
      "23 @ 11  | | | | | | | | | | |23\n",
      "22 @  9  | | | | | | | | |22\n",
      "10 @  5  | | | | |10\n",
      " 8 @  5  | | | | |8 \n",
      " 5 @  3  | | |5 \n",
      " 2 @  1  |2 \n",
      " 1 @  1  |1 \n",
      " 0 @  0 0 \n"
     ]
    }
   ],
   "source": [
    "import bisect\n",
    "import sys\n",
    "\n",
    "HAYSTACK = [1,4,5,6,8,12,15,20,21,23,23,26,29,30]\n",
    "NEEDLES = [0,1,2,5,8,10,22,23,29,30,31]\n",
    "\n",
    "ROW_FMT = '{0:2d} @ {1:2d} {2}{0:<2d}'\n",
    "\n",
    "def demo(bisect_fn):\n",
    "    for needle in reversed(NEEDLES):\n",
    "        position = bisect_fn(HAYSTACK, needle)\n",
    "        offset = position *' |'\n",
    "        print(ROW_FMT.format(needle,position,offset))\n",
    "\n",
    "if __name__=='__main__':\n",
    "\n",
    "    if sys.argv[-1] == 'left':\n",
    "    \n",
    "        bisect_fn = bisect.bisect_left\n",
    "    \n",
    "    else:\n",
    "        bisect_fn = bisect.bisect\n",
    "    \n",
    "print('DEMO:',bisect_fn.__name__)\n",
    "print('haystack ->',''.join('%2d' % n for n in HAYSTACK))\n",
    "demo(bisect_fn)"
   ]
  }
 ],
 "metadata": {
  "kernelspec": {
   "display_name": "Python 3 (ipykernel)",
   "language": "python",
   "name": "python3"
  },
  "language_info": {
   "codemirror_mode": {
    "name": "ipython",
    "version": 3
   },
   "file_extension": ".py",
   "mimetype": "text/x-python",
   "name": "python",
   "nbconvert_exporter": "python",
   "pygments_lexer": "ipython3",
   "version": "3.11.2"
  }
 },
 "nbformat": 4,
 "nbformat_minor": 5
}
